{
 "cells": [
  {
   "cell_type": "markdown",
   "id": "b7203872",
   "metadata": {},
   "source": [
    "### 과제 설명"
   ]
  },
  {
   "cell_type": "markdown",
   "id": "3002213f",
   "metadata": {},
   "source": [
    "- 과제 기한: ~9월 26일(화) 23:59 \n",
    "- 제출 sfds.basic@gmail.com\n",
    "- 메일 제목 양식: `과제1_성함`  -> `과제1_장준규`\n",
    "- 총 20문제이며 한 문제당 10점(`총 200점`)\n",
    "    - 푸는데 예상 시간: `20분~1시간30분`\n",
    "- `100점 이상`이면 과제 제출 인정합니다.\n",
    "- 과제하시다가 풀이가 필요한 문제는 번호를 메모해주세요.\n",
    "    - 다음 수업 시작 전에 자원받아 풀이하도록 하겠습니다.\n",
    "- 제출 결과는 `통과`, `미통과` 두가지만 있습니다.\n",
    "    - 점수는 알려드리지 않습니다.\n",
    "    - `미통과`되면 맞은 문제 번호 알려드립니다. 기한 내에 재제출 하셔야 합니다.\n",
    "- 답지는 기한 종료 후 배포합니다.\n",
    "- 제출 노트는 답 코드가 잘 보이도록 작성 부탁드립니다.\n",
    "> 조교님 채점 시간도 필요하니 최대한 빠른 제출 부탁드립니다."
   ]
  },
  {
   "cell_type": "markdown",
   "id": "bce6575e",
   "metadata": {},
   "source": [
    "q1. `내가 하고 있는 알바의 내 시급은 얼마일까?` 알바비(400000)를 pay변수에, 총 알바시간(42)을 total_work_time 변수에 할당 후 시급을 구하는 코드를 작성하시오"
   ]
  },
  {
   "cell_type": "code",
   "execution_count": null,
   "id": "afc0477f",
   "metadata": {},
   "outputs": [],
   "source": []
  },
  {
   "cell_type": "markdown",
   "id": "f72a469b",
   "metadata": {},
   "source": [
    "q2. 10 과 10.1의 자료형을 확인하라"
   ]
  },
  {
   "cell_type": "code",
   "execution_count": null,
   "id": "4e7dc6c2",
   "metadata": {},
   "outputs": [],
   "source": []
  },
  {
   "cell_type": "markdown",
   "id": "3b8b69bc",
   "metadata": {},
   "source": [
    "q3. a를 문자형으로 변환한 후 자료형을 확인하라"
   ]
  },
  {
   "cell_type": "code",
   "execution_count": null,
   "id": "911e4ce7",
   "metadata": {},
   "outputs": [],
   "source": []
  },
  {
   "cell_type": "markdown",
   "id": "2e4fcdb3",
   "metadata": {},
   "source": [
    "q4. \"I love Python\"을 me 변수에 넣고 3번 출력하라"
   ]
  },
  {
   "cell_type": "code",
   "execution_count": null,
   "id": "49f2c9fb",
   "metadata": {},
   "outputs": [],
   "source": []
  },
  {
   "cell_type": "markdown",
   "id": "128fe641",
   "metadata": {},
   "source": [
    "q5. me의 길이는?"
   ]
  },
  {
   "cell_type": "code",
   "execution_count": null,
   "id": "86c2334b",
   "metadata": {},
   "outputs": [],
   "source": []
  },
  {
   "cell_type": "markdown",
   "id": "6a560637",
   "metadata": {},
   "source": [
    "q6. me를 소문자로 바꿔라"
   ]
  },
  {
   "cell_type": "code",
   "execution_count": null,
   "id": "a1007f33",
   "metadata": {},
   "outputs": [],
   "source": []
  },
  {
   "cell_type": "markdown",
   "id": "9cc7af03",
   "metadata": {},
   "source": [
    "q7. me변수를 공백에 따라 나눠라"
   ]
  },
  {
   "cell_type": "code",
   "execution_count": null,
   "id": "f115e012",
   "metadata": {},
   "outputs": [],
   "source": []
  },
  {
   "cell_type": "markdown",
   "id": "4dd5ca6e",
   "metadata": {},
   "source": [
    "q8. me변수의 I를 We로 바꿔라"
   ]
  },
  {
   "cell_type": "code",
   "execution_count": null,
   "id": "78a8ac0f",
   "metadata": {},
   "outputs": [],
   "source": []
  },
  {
   "cell_type": "markdown",
   "id": "115efa12",
   "metadata": {},
   "source": [
    "q9. '마트에서 애기를 둔 아빠가 기저귀를 살 때 같이 구매하는 제품은 맥주다.'를 변수를 사용해 출력하라(f string이용하세요)"
   ]
  },
  {
   "cell_type": "code",
   "execution_count": 14,
   "id": "89c1c973",
   "metadata": {},
   "outputs": [],
   "source": [
    "purchase_1 = '기저귀'\n",
    "purchase_2 = '맥주'"
   ]
  },
  {
   "cell_type": "code",
   "execution_count": null,
   "id": "ef6ec100",
   "metadata": {},
   "outputs": [],
   "source": []
  },
  {
   "cell_type": "markdown",
   "id": "ea583707",
   "metadata": {},
   "source": [
    "q10. today를 이용하여 \"올해는 2023년이고, 오늘은 0915이고, 날씨는 sunny합니다\" 를 출력하세요"
   ]
  },
  {
   "cell_type": "code",
   "execution_count": 18,
   "id": "d5ce5fe0",
   "metadata": {},
   "outputs": [],
   "source": [
    "today = \"20230915sunny\""
   ]
  },
  {
   "cell_type": "code",
   "execution_count": null,
   "id": "f8846fc1",
   "metadata": {},
   "outputs": [],
   "source": []
  },
  {
   "cell_type": "markdown",
   "id": "a902f5ae",
   "metadata": {},
   "source": [
    "q11. feature들 사이에 `, `를 넣어보세요  'x1 x2 x3' ==> 'x1, x2, x3'"
   ]
  },
  {
   "cell_type": "code",
   "execution_count": 20,
   "id": "a62d724f",
   "metadata": {},
   "outputs": [],
   "source": [
    "feature='x1 x2 x3'"
   ]
  },
  {
   "cell_type": "code",
   "execution_count": null,
   "id": "5dfff485",
   "metadata": {},
   "outputs": [],
   "source": []
  },
  {
   "cell_type": "markdown",
   "id": "510ee7a8",
   "metadata": {},
   "source": [
    "q12. 고객 연령대를 20살부터 69살까지를 20대,30대,...,60대를 표현하는 리스트([20,30,40,50,60])를 range를 사용해서 만들어 보세요"
   ]
  },
  {
   "cell_type": "code",
   "execution_count": null,
   "id": "a9033c13",
   "metadata": {},
   "outputs": [],
   "source": []
  },
  {
   "cell_type": "markdown",
   "id": "a12beb35",
   "metadata": {},
   "source": [
    "q13. `dataset = [(123),(4,6,7)]` 데이터 셋을 두 개(변수명 train, test) 를 나눠서 한 번에 저장 후 train를 출력해 보세요"
   ]
  },
  {
   "cell_type": "code",
   "execution_count": 24,
   "id": "9c0ecd81",
   "metadata": {},
   "outputs": [],
   "source": [
    "dataset = [(1,2,3),(4,6,7)]"
   ]
  },
  {
   "cell_type": "code",
   "execution_count": null,
   "id": "0f12f399",
   "metadata": {},
   "outputs": [],
   "source": []
  },
  {
   "cell_type": "markdown",
   "id": "b30e3e71",
   "metadata": {},
   "source": [
    "q14. 학점이 90초과면 'A' 80초과면 'B' 나머지는 'F'를 출력하는 함수 get_grade를 작성하세요\n",
    "    ex) get_grade(91) -> 'A', get_grade(81) -> 'B',"
   ]
  },
  {
   "cell_type": "code",
   "execution_count": null,
   "id": "18877920",
   "metadata": {},
   "outputs": [],
   "source": []
  },
  {
   "cell_type": "code",
   "execution_count": 32,
   "id": "7768e089",
   "metadata": {},
   "outputs": [
    {
     "name": "stdout",
     "output_type": "stream",
     "text": [
      "A\n"
     ]
    }
   ],
   "source": [
    "get_grade(91)"
   ]
  },
  {
   "cell_type": "code",
   "execution_count": 33,
   "id": "2c911b3e",
   "metadata": {},
   "outputs": [
    {
     "name": "stdout",
     "output_type": "stream",
     "text": [
      "B\n"
     ]
    }
   ],
   "source": [
    "get_grade(81)"
   ]
  },
  {
   "cell_type": "markdown",
   "id": "20a48445",
   "metadata": {},
   "source": [
    "q15. for문을 이용해서 '단맛'일 경우에 '단맛 좋아요'를 출력하고 아닐 경우에 '싫어요'를 출력하게 코드를 작성하시오"
   ]
  },
  {
   "cell_type": "code",
   "execution_count": 37,
   "id": "363ae3f3",
   "metadata": {},
   "outputs": [],
   "source": [
    "taste = ['단맛', '짠맛', '매운맛']\n",
    "\n",
    "for i in taste:\n",
    "        #코드를 작성하시오\n",
    "    pass\n"
   ]
  },
  {
   "cell_type": "code",
   "execution_count": null,
   "id": "5323f03f",
   "metadata": {},
   "outputs": [],
   "source": []
  },
  {
   "cell_type": "code",
   "execution_count": null,
   "id": "2cbb5491",
   "metadata": {},
   "outputs": [],
   "source": []
  },
  {
   "cell_type": "markdown",
   "id": "de4a0cd0",
   "metadata": {
    "collapsed": true
   },
   "source": [
    "q16. 숫자 하나를 입력받아, 홀수면 \"odd\", 짝수면 \"even\"을 출력하는 함수 odd_or_even을 만드세요.   \n",
    "    ex) odd_or_even(9) -> 'odd'"
   ]
  },
  {
   "cell_type": "code",
   "execution_count": null,
   "id": "1b52101f",
   "metadata": {},
   "outputs": [],
   "source": []
  },
  {
   "cell_type": "code",
   "execution_count": 40,
   "id": "faa7e032",
   "metadata": {
    "scrolled": true
   },
   "outputs": [
    {
     "name": "stdout",
     "output_type": "stream",
     "text": [
      "even\n"
     ]
    }
   ],
   "source": [
    "odd_or_even(8)"
   ]
  },
  {
   "cell_type": "markdown",
   "id": "77575094",
   "metadata": {},
   "source": [
    "q17. 투자금이 생기면 KOSPI, KOSDAQ 50:50로 투자한다.  \n",
    "현재 투자금 상태(단위:만원)\n",
    "`invested_price = {'KOSPI':1000, 'KOSDAQ':2000}`  입니다.\n",
    "  \n",
    "이번 달 1000만원이 더 생겼다. 그러면 투자금 상태는 어떻게 변화 될까?  add_money함수를 작성해보세요  \n",
    "    ex) add_money(invested_price,100) -> {'KOSPI': 1050.0, 'KOSDAQ': 2050.0}"
   ]
  },
  {
   "cell_type": "code",
   "execution_count": 41,
   "id": "25b89184",
   "metadata": {
    "scrolled": true
   },
   "outputs": [
    {
     "data": {
      "text/plain": [
       "{'KOSPI': 1000, 'KOSDAQ': 2000}"
      ]
     },
     "execution_count": 41,
     "metadata": {},
     "output_type": "execute_result"
    }
   ],
   "source": [
    "invested_price = {'KOSPI':1000, 'KOSDAQ':2000}\n",
    "invested_price"
   ]
  },
  {
   "cell_type": "code",
   "execution_count": null,
   "id": "909b5966",
   "metadata": {},
   "outputs": [],
   "source": []
  },
  {
   "cell_type": "code",
   "execution_count": 19,
   "id": "9f1e813c",
   "metadata": {},
   "outputs": [],
   "source": [
    "add_money(invested_price,100)"
   ]
  },
  {
   "cell_type": "code",
   "execution_count": 20,
   "id": "f56758de",
   "metadata": {},
   "outputs": [
    {
     "data": {
      "text/plain": [
       "{'KOSPI': 1050.0, 'KOSDAQ': 2050.0}"
      ]
     },
     "execution_count": 20,
     "metadata": {},
     "output_type": "execute_result"
    }
   ],
   "source": [
    "invested_price"
   ]
  },
  {
   "cell_type": "markdown",
   "id": "5f0c5168",
   "metadata": {},
   "source": [
    "q18. lambda와 map을 이용해서 [1,2,3]의 제곱수를 구해라 -> 출력결과 예시: [1, 4, 9]"
   ]
  },
  {
   "cell_type": "code",
   "execution_count": null,
   "id": "2b3679ab",
   "metadata": {},
   "outputs": [],
   "source": []
  },
  {
   "cell_type": "markdown",
   "id": "bbbcc783",
   "metadata": {},
   "source": [
    "q19.  (lambda,map,if 이용)성별 리스트에서 '남'이면 1 그 밖에 2를 출력하라 "
   ]
  },
  {
   "cell_type": "code",
   "execution_count": 59,
   "id": "3be3848d",
   "metadata": {},
   "outputs": [],
   "source": [
    "성별 = ['남','여','여'] \n",
    "#[1, 2, 2] 가 출력되어야 함"
   ]
  },
  {
   "cell_type": "code",
   "execution_count": null,
   "id": "eccebe57",
   "metadata": {},
   "outputs": [],
   "source": []
  },
  {
   "cell_type": "markdown",
   "id": "ae10252b",
   "metadata": {},
   "source": [
    "q20. datetime 패키지(모듈)를 이용해서 오늘 일자를 나타내시오. ex) 오늘 일자는 2023-09-23입니다"
   ]
  },
  {
   "cell_type": "code",
   "execution_count": null,
   "id": "a2058315",
   "metadata": {},
   "outputs": [],
   "source": []
  },
  {
   "cell_type": "markdown",
   "id": "8874abb0",
   "metadata": {},
   "source": [
    "# 추가 문제"
   ]
  },
  {
   "cell_type": "markdown",
   "id": "4be34c40",
   "metadata": {},
   "source": [
    "> 과제 점수 평가에는 들어가지 않습니다. 여러분 실력 상승을 위한 문제입니다! "
   ]
  },
  {
   "cell_type": "markdown",
   "id": "209f157d",
   "metadata": {},
   "source": [
    "2. 정수형과 실수형을 더한 값은 자료형이 어떻게 될까? "
   ]
  },
  {
   "cell_type": "code",
   "execution_count": 62,
   "id": "95839fcf",
   "metadata": {},
   "outputs": [
    {
     "data": {
      "text/plain": [
       "float"
      ]
     },
     "execution_count": 62,
     "metadata": {},
     "output_type": "execute_result"
    }
   ],
   "source": [
    "a = 1\n",
    "b = 2.34\n",
    "\n",
    "type(a+b)\n",
    "#실수형"
   ]
  },
  {
   "cell_type": "markdown",
   "id": "e1c74bd6",
   "metadata": {},
   "source": [
    "3. 10 나누기 3의 결과를 내림해라(두 가지 방법을 제시)"
   ]
  },
  {
   "cell_type": "code",
   "execution_count": 13,
   "id": "8fa4b0ce",
   "metadata": {},
   "outputs": [
    {
     "data": {
      "text/plain": [
       "3"
      ]
     },
     "execution_count": 13,
     "metadata": {},
     "output_type": "execute_result"
    }
   ],
   "source": [
    "10//3"
   ]
  },
  {
   "cell_type": "code",
   "execution_count": 14,
   "id": "c7725ee6",
   "metadata": {},
   "outputs": [
    {
     "data": {
      "text/plain": [
       "3"
      ]
     },
     "execution_count": 14,
     "metadata": {},
     "output_type": "execute_result"
    }
   ],
   "source": [
    "int(10/3)"
   ]
  },
  {
   "cell_type": "markdown",
   "id": "782334b7",
   "metadata": {},
   "source": [
    "8. 2017년 기준금리는 1.51%이다.를 출력하라"
   ]
  },
  {
   "cell_type": "code",
   "execution_count": 76,
   "id": "9b5c276a",
   "metadata": {},
   "outputs": [],
   "source": [
    "basemoney_rate=1.5201"
   ]
  },
  {
   "cell_type": "code",
   "execution_count": 77,
   "id": "7c9cec04",
   "metadata": {
    "scrolled": false
   },
   "outputs": [
    {
     "data": {
      "text/plain": [
       "'2017년 기준금리는 1.52%이다'"
      ]
     },
     "execution_count": 77,
     "metadata": {},
     "output_type": "execute_result"
    }
   ],
   "source": [
    "f'2017년 기준금리는 {basemoney_rate:.2f}%이다'"
   ]
  },
  {
   "cell_type": "markdown",
   "id": "744eca87",
   "metadata": {},
   "source": [
    "- 조건연산자 주의!"
   ]
  },
  {
   "cell_type": "markdown",
   "id": "d7fd915e",
   "metadata": {},
   "source": [
    "1. `==`  비교했을 때 나오는 값은?\n",
    "    - [] 과 False\n",
    "    - None 과 False"
   ]
  },
  {
   "cell_type": "code",
   "execution_count": 29,
   "id": "95697406",
   "metadata": {},
   "outputs": [
    {
     "data": {
      "text/plain": [
       "False"
      ]
     },
     "execution_count": 29,
     "metadata": {},
     "output_type": "execute_result"
    }
   ],
   "source": [
    "[] == False"
   ]
  },
  {
   "cell_type": "code",
   "execution_count": 30,
   "id": "d48d6206",
   "metadata": {
    "colab": {},
    "colab_type": "code",
    "id": "py2bXUudZ5d8",
    "outputId": "6956396d-4de1-4ced-9b7b-9b5b25cd0499",
    "scrolled": false
   },
   "outputs": [
    {
     "data": {
      "text/plain": [
       "False"
      ]
     },
     "execution_count": 30,
     "metadata": {},
     "output_type": "execute_result"
    }
   ],
   "source": [
    "None == False"
   ]
  },
  {
   "cell_type": "markdown",
   "id": "79de0ffc",
   "metadata": {},
   "source": [
    "> `[]`, `None` 둘다 False를 뜻하지만 False의 문자그대로의 value는 다르다"
   ]
  },
  {
   "cell_type": "markdown",
   "id": "0147ef3b",
   "metadata": {},
   "source": [
    "2. `is` 로 나오는 값은?\n",
    "    - None 과 False\n",
    "    - [] 과 False"
   ]
  },
  {
   "cell_type": "code",
   "execution_count": 31,
   "id": "7d9511c6",
   "metadata": {
    "scrolled": true
   },
   "outputs": [
    {
     "data": {
      "text/plain": [
       "False"
      ]
     },
     "execution_count": 31,
     "metadata": {},
     "output_type": "execute_result"
    }
   ],
   "source": [
    "None is False"
   ]
  },
  {
   "cell_type": "code",
   "execution_count": 32,
   "id": "3ad7d9b0",
   "metadata": {
    "scrolled": false
   },
   "outputs": [
    {
     "data": {
      "text/plain": [
       "140705003559048"
      ]
     },
     "execution_count": 32,
     "metadata": {},
     "output_type": "execute_result"
    }
   ],
   "source": [
    "id(False)"
   ]
  },
  {
   "cell_type": "code",
   "execution_count": 33,
   "id": "05f9067e",
   "metadata": {},
   "outputs": [
    {
     "data": {
      "text/plain": [
       "140705003609304"
      ]
     },
     "execution_count": 33,
     "metadata": {},
     "output_type": "execute_result"
    }
   ],
   "source": [
    "id(None)"
   ]
  },
  {
   "cell_type": "code",
   "execution_count": 34,
   "id": "f818473b",
   "metadata": {},
   "outputs": [
    {
     "data": {
      "text/plain": [
       "False"
      ]
     },
     "execution_count": 34,
     "metadata": {},
     "output_type": "execute_result"
    }
   ],
   "source": [
    "[] is False"
   ]
  },
  {
   "cell_type": "code",
   "execution_count": 35,
   "id": "a192fd33",
   "metadata": {
    "scrolled": true
   },
   "outputs": [
    {
     "data": {
      "text/plain": [
       "1582846439040"
      ]
     },
     "execution_count": 35,
     "metadata": {},
     "output_type": "execute_result"
    }
   ],
   "source": [
    "id([])"
   ]
  },
  {
   "cell_type": "code",
   "execution_count": 37,
   "id": "f756bbc8",
   "metadata": {},
   "outputs": [
    {
     "name": "stdout",
     "output_type": "stream",
     "text": [
      "****2단****\n",
      "2 * 1 = 2\n",
      "2 * 2 = 4\n",
      "2 * 3 = 6\n",
      "2 * 4 = 8\n",
      "2 * 5 = 10\n",
      "2 * 6 = 12\n",
      "2 * 7 = 14\n",
      "2 * 8 = 16\n",
      "2 * 9 = 18\n",
      "\n",
      "****3단****\n",
      "3 * 1 = 3\n",
      "3 * 2 = 6\n",
      "3 * 3 = 9\n",
      "3 * 4 = 12\n",
      "3 * 5 = 15\n",
      "3 * 6 = 18\n",
      "3 * 7 = 21\n",
      "3 * 8 = 24\n",
      "3 * 9 = 27\n",
      "\n"
     ]
    }
   ],
   "source": [
    "# 3. while을 이용해 구구단 2,3단을 출력하라\n",
    "i = 2\n",
    "while i < 4:\n",
    "    print('****%s단****' % i)\n",
    "    j = 1\n",
    "    while j < 10:\n",
    "        print(i,'*',j,'=',i*j)\n",
    "        j += 1\n",
    "    i += 1\n",
    "    print()"
   ]
  },
  {
   "cell_type": "code",
   "execution_count": 38,
   "id": "de40f6f0",
   "metadata": {},
   "outputs": [],
   "source": [
    "# 4. 사용자에게 궁금한 구구단 수를 물어보고 해당 구구단이 출력하게 하라\n",
    "#결과예) 3단이 궁금해서 3을 입력하면 구구단 3단이 출력된다."
   ]
  },
  {
   "cell_type": "code",
   "execution_count": 39,
   "id": "846c7dd5",
   "metadata": {
    "scrolled": false
   },
   "outputs": [
    {
     "name": "stdout",
     "output_type": "stream",
     "text": [
      "몇 단이 궁금하세요?1\n",
      "구구단 1 단을 알려드리겠습니다.\n",
      "1 * 1 = 1\n",
      "1 * 2 = 2\n",
      "1 * 3 = 3\n",
      "1 * 4 = 4\n",
      "1 * 5 = 5\n",
      "1 * 6 = 6\n",
      "1 * 7 = 7\n",
      "1 * 8 = 8\n",
      "1 * 9 = 9\n"
     ]
    }
   ],
   "source": [
    "user = int(input('몇 단이 궁금하세요?'))\n",
    "print('구구단',user,'단을 알려드리겠습니다.')\n",
    "for j in range(1,10):\n",
    "    print(user,'*',j,'=',user*j)"
   ]
  },
  {
   "cell_type": "markdown",
   "id": "277a101d",
   "metadata": {},
   "source": [
    "3. filter, map을 사용해서 [1,2,3,4]에서 짝수만 찾아내어 제곱하라"
   ]
  },
  {
   "cell_type": "code",
   "execution_count": 31,
   "id": "cb838a0e",
   "metadata": {},
   "outputs": [
    {
     "data": {
      "text/plain": [
       "[4, 16]"
      ]
     },
     "execution_count": 31,
     "metadata": {},
     "output_type": "execute_result"
    }
   ],
   "source": [
    "# 3. filter, map을 사용해서 [1,2,3,4]에서 짝수만 찾아내어 제곱하라\n",
    "test = [1,2,3,4]\n",
    "def judge_fn(value):\n",
    "    return value % 2 == 0 # 짝수만 pass\n",
    "def power_fn(value):\n",
    "    return value ** 2\n",
    "list(map(power_fn, filter(judge_fn,test)))"
   ]
  },
  {
   "cell_type": "markdown",
   "id": "d1832386",
   "metadata": {},
   "source": [
    "4. enumerate, for을 사용하여 자기계발 종류와 유형을 순서와 함께 출력  \n",
    "0 ('python', 'coding')  \n",
    "1 ('tennis', 'exercise')"
   ]
  },
  {
   "cell_type": "code",
   "execution_count": 33,
   "id": "f730c546",
   "metadata": {
    "scrolled": true
   },
   "outputs": [
    {
     "name": "stdout",
     "output_type": "stream",
     "text": [
      "0 python coding\n",
      "1 tennis exercise\n"
     ]
    }
   ],
   "source": [
    "# 4. enumerate, for을 사용하여 자기계발 종류와 유형을 순서와 함께 출력\n",
    "acts = ['python','tennis']\n",
    "types = ['coding','exercise']\n",
    "for i, (index1,index2) in enumerate(zip(acts, types)):\n",
    "    print(i,index1,index2)"
   ]
  },
  {
   "cell_type": "code",
   "execution_count": null,
   "id": "935f2ec7",
   "metadata": {},
   "outputs": [],
   "source": []
  }
 ],
 "metadata": {
  "kernelspec": {
   "display_name": "Python 3 (ipykernel)",
   "language": "python",
   "name": "python3"
  },
  "language_info": {
   "codemirror_mode": {
    "name": "ipython",
    "version": 3
   },
   "file_extension": ".py",
   "mimetype": "text/x-python",
   "name": "python",
   "nbconvert_exporter": "python",
   "pygments_lexer": "ipython3",
   "version": "3.8.18"
  },
  "toc": {
   "base_numbering": 1,
   "nav_menu": {},
   "number_sections": true,
   "sideBar": true,
   "skip_h1_title": false,
   "title_cell": "Table of Contents",
   "title_sidebar": "Contents",
   "toc_cell": false,
   "toc_position": {
    "height": "calc(100% - 180px)",
    "left": "10px",
    "top": "150px",
    "width": "351.25px"
   },
   "toc_section_display": true,
   "toc_window_display": false
  }
 },
 "nbformat": 4,
 "nbformat_minor": 5
}
